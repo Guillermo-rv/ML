{
  "nbformat": 4,
  "nbformat_minor": 0,
  "metadata": {
    "colab": {
      "provenance": [],
      "include_colab_link": true
    },
    "kernelspec": {
      "name": "python3",
      "display_name": "Python 3"
    },
    "language_info": {
      "name": "python"
    }
  },
  "cells": [
    {
      "cell_type": "markdown",
      "metadata": {
        "id": "view-in-github",
        "colab_type": "text"
      },
      "source": [
        "<a href=\"https://colab.research.google.com/github/Guillermo-rv/ML/blob/main/Unsupervised.ipynb\" target=\"_parent\"><img src=\"https://colab.research.google.com/assets/colab-badge.svg\" alt=\"Open In Colab\"/></a>"
      ]
    },
    {
      "cell_type": "markdown",
      "source": [
        "# Session 10: PCA (Unsupervised learning)"
      ],
      "metadata": {
        "id": "anFLaOwbxXXI"
      }
    },
    {
      "cell_type": "markdown",
      "source": [
        "## Exercise 1"
      ],
      "metadata": {
        "id": "ewnpqo9c2b8f"
      }
    },
    {
      "cell_type": "code",
      "execution_count": null,
      "metadata": {
        "id": "xMLnM0gDhm9U"
      },
      "outputs": [],
      "source": [
        "# UNSUPERVISED LEARNING\n",
        "# (BY DEFAULT!!)\n",
        "\n",
        "# No y (no labels, no target)\n",
        "# No Train Test Split -> estimator.fit(X) [ estimator.fit(X_train, y_train) -> supervised learning ]\n",
        "# Scale or not scale depending on the estimator\n",
        "\n",
        "# Step 1: Reading data\n",
        "import pandas as pd\n",
        "df_tech = pd.read_csv(\"Top_50_US_Tech_Companies_2022-2023.csv\")\n",
        "df_tech = df_tech.select_dtypes(include=['number'])\n",
        "\n",
        "# Step 2: Preprocessing\n",
        "from sklearn.preprocessing import StandardScaler\n",
        "scaler = StandardScaler()\n",
        "df_tech_scaled = scaler.fit_transform(df_tech) # .fit(df_tech) .transform(df_tech)\n",
        "\n",
        "# Step 3: PCA with all components\n",
        "from sklearn.decomposition import PCA\n",
        "pca = PCA(n_components = df_tech_scaled.shape[1])\n",
        "pca.fit(df_tech_scaled)\n",
        "df_tech_scaled_pca = pca.transform(df_tech_scaled) # df_tech_scaled_pca = pca.fit_transform(df_tech_scaled)"
      ]
    },
    {
      "cell_type": "markdown",
      "source": [
        "## Exercise 2"
      ],
      "metadata": {
        "id": "ei-kYyo72eYp"
      }
    },
    {
      "cell_type": "code",
      "source": [
        "import numpy as np\n",
        "import matplotlib.pyplot as plt\n",
        "\n",
        "def pca_optimalComponents(data, max_number_components, threshold):\n",
        "  pca = PCA(max_number_components)\n",
        "  pca.fit(data)\n",
        "  cumsum = np.cumsum(pca.explained_variance_ratio_) # Cumulative sum of EVR\n",
        "  horiz = range(1, max_number_components+1)\n",
        "  plt.plot(horiz, cumsum, marker='o')\n",
        "  plt.hlines(y=threshold, xmin=1, xmax=max_number_components) # horizontal axis from x=1 to x=max_components\n",
        "  plt.show()"
      ],
      "metadata": {
        "id": "jg3ZNWxvukhe"
      },
      "execution_count": null,
      "outputs": []
    },
    {
      "cell_type": "code",
      "source": [
        "pca_optimalComponents(df_tech_scaled, df_tech_scaled.shape[1], 0.9)"
      ],
      "metadata": {
        "colab": {
          "base_uri": "https://localhost:8080/",
          "height": 450
        },
        "id": "j1nR5V3aw1LL",
        "outputId": "9394f5a9-1e42-453e-9611-f59dee6dc650"
      },
      "execution_count": null,
      "outputs": [
        {
          "output_type": "display_data",
          "data": {
            "text/plain": [
              "<Figure size 640x480 with 1 Axes>"
            ],
            "image/png": "[encoded data removed]"
          },
          "metadata": {}
        }
      ]
    },
    {
      "cell_type": "code",
      "source": [
        "pca_opt = PCA(n_components = 3)\n",
        "df_tech_scaled_pca = pca_opt.fit_transform(df_tech_scaled)"
      ],
      "metadata": {
        "id": "hCeiZg3Q6SGL"
      },
      "execution_count": null,
      "outputs": []
    },
    {
      "cell_type": "code",
      "source": [
        "df_tech_scaled_pca"
      ],
      "metadata": {
        "colab": {
          "base_uri": "https://localhost:8080/"
        },
        "id": "oN3PKkDL6dKZ",
        "outputId": "52c681be-3484-451a-9a2f-f1b7b7132af2"
      },
      "execution_count": null,
      "outputs": [
        {
          "output_type": "execute_result",
          "data": {
            "text/plain": [
              "array([[ 6.91559749e+00, -2.74852521e+00,  4.48185623e-01],\n",
              "       [ 4.96404940e+00, -2.26970756e+00,  5.23828585e-01],\n",
              "       [ 4.07881046e+00, -1.28666074e+00, -5.20536262e-01],\n",
              "       [ 5.57031465e+00,  6.28677122e+00, -1.16342050e+00],\n",
              "       [ 6.47066079e-02, -3.18736092e-01, -3.52582582e-01],\n",
              "       [ 6.44955146e-01, -8.30991151e-03, -7.95101038e-01],\n",
              "       [ 1.22439927e+00, -7.25519457e-01, -7.49761005e-01],\n",
              "       [-2.28070009e-01, -9.17263329e-02,  9.46322970e-01],\n",
              "       [ 2.37184695e-03,  2.93981840e-01,  2.65042908e-01],\n",
              "       [ 1.19996120e-01, -1.76594928e-01,  3.21427910e-02],\n",
              "       [-3.38019902e-01,  3.90754659e-02, -6.01592600e-01],\n",
              "       [-4.00767513e-01, -1.92301171e-01,  1.18454519e-01],\n",
              "       [-3.43391102e-01,  4.04903156e-02,  2.20496611e+00],\n",
              "       [-5.53314892e-01,  9.31597139e-02,  6.08230639e-01],\n",
              "       [-1.60586698e-01, -1.71279210e-01, -7.09633012e-03],\n",
              "       [-4.61121471e-01, -1.75003017e-01, -4.98836132e-01],\n",
              "       [-1.94620236e-01,  5.91551431e-01,  5.93573755e-01],\n",
              "       [-6.05783714e-01, -9.23305554e-02,  6.73172203e-02],\n",
              "       [ 1.51808613e-01,  1.58261614e+00,  2.82190242e+00],\n",
              "       [-4.34629856e-01, -2.99413257e-02,  7.10870779e-01],\n",
              "       [-5.66796205e-01, -1.77223765e-01, -4.49298411e-01],\n",
              "       [-6.27446630e-01,  3.47300260e-02,  7.86454199e-01],\n",
              "       [-7.39644320e-01, -1.05663589e-01, -7.81293251e-01],\n",
              "       [-4.71128557e-01,  1.49332179e-01,  1.42827181e+00],\n",
              "       [-4.92464278e-01, -1.35902819e-01, -5.36755822e-01],\n",
              "       [-7.72115281e-01, -1.63267883e-01, -9.38491924e-01],\n",
              "       [-5.82551984e-01,  1.46483755e-02,  1.96172621e-02],\n",
              "       [-6.12513441e-01, -5.34809032e-02,  1.86672274e-01],\n",
              "       [-6.37394155e-01,  3.15586559e-02, -1.00618187e+00],\n",
              "       [-4.79079437e-01,  2.98042234e-02,  2.60627549e-01],\n",
              "       [-7.73920541e-01, -1.04891238e-01, -5.36847228e-01],\n",
              "       [-7.66172044e-01, -1.56780431e-01, -9.36709507e-01],\n",
              "       [-7.98570224e-01, -1.19815097e-01, -8.18922133e-01],\n",
              "       [-7.69794233e-01, -3.44440424e-02, -5.52401558e-02],\n",
              "       [-7.90302420e-01, -8.82371789e-02, -1.30795303e-01],\n",
              "       [-7.57262464e-01, -8.49301440e-02, -4.98424454e-01],\n",
              "       [-8.11676005e-01, -1.75264642e-01, -7.71526774e-01],\n",
              "       [-6.90922737e-01, -1.90992530e-02, -5.44257633e-01],\n",
              "       [-7.95543621e-01, -1.05637369e-01, -8.19164921e-01],\n",
              "       [-8.21766635e-01, -9.72993653e-02, -6.17334565e-01],\n",
              "       [-7.64607486e-01, -1.01840143e-01, -9.87250469e-01],\n",
              "       [-8.64147073e-01, -1.68091668e-01, -1.09668892e+00],\n",
              "       [-6.77637262e-01,  3.42638557e-01,  3.80319022e+00],\n",
              "       [-7.58429809e-01, -3.59909089e-02, -1.76706934e-01],\n",
              "       [-8.01076145e-01, -2.19994643e-02,  1.05699160e-01],\n",
              "       [-8.08310949e-01, -1.17536930e-01, -9.80662129e-01],\n",
              "       [-6.06429025e-01,  2.13722097e-01,  8.54758676e-02],\n",
              "       [-8.06001577e-01, -1.16320815e-01, -4.11498095e-01],\n",
              "       [ 7.44741843e-02,  4.81553579e-01, -4.72188361e-02],\n",
              "       [-2.47473841e-01,  2.44719343e-01,  1.81334913e+00]])"
            ]
          },
          "metadata": {},
          "execution_count": 4
        }
      ]
    },
    {
      "cell_type": "code",
      "source": [
        "pd.DataFrame(df_tech_scaled_pca).corr()"
      ],
      "metadata": {
        "colab": {
          "base_uri": "https://localhost:8080/",
          "height": 143
        },
        "id": "8oGkXnZc6rtn",
        "outputId": "d9a46faa-6167-4b78-ef1e-c88da925feca"
      },
      "execution_count": null,
      "outputs": [
        {
          "output_type": "execute_result",
          "data": {
            "text/plain": [
              "              0             1             2\n",
              "0  1.000000e+00  3.075462e-17 -1.035437e-16\n",
              "1  3.075462e-17  1.000000e+00  1.336043e-17\n",
              "2 -1.035437e-16  1.336043e-17  1.000000e+00"
            ],
            "text/html": [
              "\n",
              "  <div id=\"df-99f865ff-c402-4a1b-825d-a3a5cee68463\" class=\"colab-df-container\">\n",
              "    <div>\n",
              "<style scoped>\n",
              "    .dataframe tbody tr th:only-of-type {\n",
              "        vertical-align: middle;\n",
              "    }\n",
              "\n",
              "    .dataframe tbody tr th {\n",
              "        vertical-align: top;\n",
              "    }\n",
              "\n",
              "    .dataframe thead th {\n",
              "        text-align: right;\n",
              "    }\n",
              "</style>\n",
              "<table border=\"1\" class=\"dataframe\">\n",
              "  <thead>\n",
              "    <tr style=\"text-align: right;\">\n",
              "      <th></th>\n",
              "      <th>0</th>\n",
              "      <th>1</th>\n",
              "      <th>2</th>\n",
              "    </tr>\n",
              "  </thead>\n",
              "  <tbody>\n",
              "    <tr>\n",
              "      <th>0</th>\n",
              "      <td>1.000000e+00</td>\n",
              "      <td>3.075462e-17</td>\n",
              "      <td>-1.035437e-16</td>\n",
              "    </tr>\n",
              "    <tr>\n",
              "      <th>1</th>\n",
              "      <td>3.075462e-17</td>\n",
              "      <td>1.000000e+00</td>\n",
              "      <td>1.336043e-17</td>\n",
              "    </tr>\n",
              "    <tr>\n",
              "      <th>2</th>\n",
              "      <td>-1.035437e-16</td>\n",
              "      <td>1.336043e-17</td>\n",
              "      <td>1.000000e+00</td>\n",
              "    </tr>\n",
              "  </tbody>\n",
              "</table>\n",
              "</div>\n",
              "    <div class=\"colab-df-buttons\">\n",
              "\n",
              "  <div class=\"colab-df-container\">\n",
              "    <button class=\"colab-df-convert\" onclick=\"convertToInteractive('df-99f865ff-c402-4a1b-825d-a3a5cee68463')\"\n",
              "            title=\"Convert this dataframe to an interactive table.\"\n",
              "            style=\"display:none;\">\n",
              "\n",
              "  <svg xmlns=\"http://www.w3.org/2000/svg\" height=\"24px\" viewBox=\"0 -960 960 960\">\n",
              "    <path d=\"M120-120v-720h720v720H120Zm60-500h600v-160H180v160Zm220 220h160v-160H400v160Zm0 220h160v-160H400v160ZM180-400h160v-160H180v160Zm440 0h160v-160H620v160ZM180-180h160v-160H180v160Zm440 0h160v-160H620v160Z\"/>\n",
              "  </svg>\n",
              "    </button>\n",
              "\n",
              "  <style>\n",
              "    .colab-df-container {\n",
              "      display:flex;\n",
              "      gap: 12px;\n",
              "    }\n",
              "\n",
              "    .colab-df-convert {\n",
              "      background-color: #E8F0FE;\n",
              "      border: none;\n",
              "      border-radius: 50%;\n",
              "      cursor: pointer;\n",
              "      display: none;\n",
              "      fill: #1967D2;\n",
              "      height: 32px;\n",
              "      padding: 0 0 0 0;\n",
              "      width: 32px;\n",
              "    }\n",
              "\n",
              "    .colab-df-convert:hover {\n",
              "      background-color: #E2EBFA;\n",
              "      box-shadow: 0px 1px 2px rgba(60, 64, 67, 0.3), 0px 1px 3px 1px rgba(60, 64, 67, 0.15);\n",
              "      fill: #174EA6;\n",
              "    }\n",
              "\n",
              "    .colab-df-buttons div {\n",
              "      margin-bottom: 4px;\n",
              "    }\n",
              "\n",
              "    [theme=dark] .colab-df-convert {\n",
              "      background-color: #3B4455;\n",
              "      fill: #D2E3FC;\n",
              "    }\n",
              "\n",
              "    [theme=dark] .colab-df-convert:hover {\n",
              "      background-color: #434B5C;\n",
              "      box-shadow: 0px 1px 3px 1px rgba(0, 0, 0, 0.15);\n",
              "      filter: drop-shadow(0px 1px 2px rgba(0, 0, 0, 0.3));\n",
              "      fill: #FFFFFF;\n",
              "    }\n",
              "  </style>\n",
              "\n",
              "    <script>\n",
              "      const buttonEl =\n",
              "        document.querySelector('#df-99f865ff-c402-4a1b-825d-a3a5cee68463 button.colab-df-convert');\n",
              "      buttonEl.style.display =\n",
              "        google.colab.kernel.accessAllowed ? 'block' : 'none';\n",
              "\n",
              "      async function convertToInteractive(key) {\n",
              "        const element = document.querySelector('#df-99f865ff-c402-4a1b-825d-a3a5cee68463');\n",
              "        const dataTable =\n",
              "          await google.colab.kernel.invokeFunction('convertToInteractive',\n",
              "                                                    [key], {});\n",
              "        if (!dataTable) return;\n",
              "\n",
              "        const docLinkHtml = 'Like what you see? Visit the ' +\n",
              "          '<a target=\"_blank\" href=https://colab.research.google.com/notebooks/data_table.ipynb>data table notebook</a>'\n",
              "          + ' to learn more about interactive tables.';\n",
              "        element.innerHTML = '';\n",
              "        dataTable['output_type'] = 'display_data';\n",
              "        await google.colab.output.renderOutput(dataTable, element);\n",
              "        const docLink = document.createElement('div');\n",
              "        docLink.innerHTML = docLinkHtml;\n",
              "        element.appendChild(docLink);\n",
              "      }\n",
              "    </script>\n",
              "  </div>\n",
              "\n",
              "\n",
              "<div id=\"df-31250f63-18fd-46b0-bc97-142c05049b69\">\n",
              "  <button class=\"colab-df-quickchart\" onclick=\"quickchart('df-31250f63-18fd-46b0-bc97-142c05049b69')\"\n",
              "            title=\"Suggest charts\"\n",
              "            style=\"display:none;\">\n",
              "\n",
              "<svg xmlns=\"http://www.w3.org/2000/svg\" height=\"24px\"viewBox=\"0 0 24 24\"\n",
              "     width=\"24px\">\n",
              "    <g>\n",
              "        <path d=\"M19 3H5c-1.1 0-2 .9-2 2v14c0 1.1.9 2 2 2h14c1.1 0 2-.9 2-2V5c0-1.1-.9-2-2-2zM9 17H7v-7h2v7zm4 0h-2V7h2v10zm4 0h-2v-4h2v4z\"/>\n",
              "    </g>\n",
              "</svg>\n",
              "  </button>\n",
              "\n",
              "<style>\n",
              "  .colab-df-quickchart {\n",
              "      --bg-color: #E8F0FE;\n",
              "      --fill-color: #1967D2;\n",
              "      --hover-bg-color: #E2EBFA;\n",
              "      --hover-fill-color: #174EA6;\n",
              "      --disabled-fill-color: #AAA;\n",
              "      --disabled-bg-color: #DDD;\n",
              "  }\n",
              "\n",
              "  [theme=dark] .colab-df-quickchart {\n",
              "      --bg-color: #3B4455;\n",
              "      --fill-color: #D2E3FC;\n",
              "      --hover-bg-color: #434B5C;\n",
              "      --hover-fill-color: #FFFFFF;\n",
              "      --disabled-bg-color: #3B4455;\n",
              "      --disabled-fill-color: #666;\n",
              "  }\n",
              "\n",
              "  .colab-df-quickchart {\n",
              "    background-color: var(--bg-color);\n",
              "    border: none;\n",
              "    border-radius: 50%;\n",
              "    cursor: pointer;\n",
              "    display: none;\n",
              "    fill: var(--fill-color);\n",
              "    height: 32px;\n",
              "    padding: 0;\n",
              "    width: 32px;\n",
              "  }\n",
              "\n",
              "  .colab-df-quickchart:hover {\n",
              "    background-color: var(--hover-bg-color);\n",
              "    box-shadow: 0 1px 2px rgba(60, 64, 67, 0.3), 0 1px 3px 1px rgba(60, 64, 67, 0.15);\n",
              "    fill: var(--button-hover-fill-color);\n",
              "  }\n",
              "\n",
              "  .colab-df-quickchart-complete:disabled,\n",
              "  .colab-df-quickchart-complete:disabled:hover {\n",
              "    background-color: var(--disabled-bg-color);\n",
              "    fill: var(--disabled-fill-color);\n",
              "    box-shadow: none;\n",
              "  }\n",
              "\n",
              "  .colab-df-spinner {\n",
              "    border: 2px solid var(--fill-color);\n",
              "    border-color: transparent;\n",
              "    border-bottom-color: var(--fill-color);\n",
              "    animation:\n",
              "      spin 1s steps(1) infinite;\n",
              "  }\n",
              "\n",
              "  @keyframes spin {\n",
              "    0% {\n",
              "      border-color: transparent;\n",
              "      border-bottom-color: var(--fill-color);\n",
              "      border-left-color: var(--fill-color);\n",
              "    }\n",
              "    20% {\n",
              "      border-color: transparent;\n",
              "      border-left-color: var(--fill-color);\n",
              "      border-top-color: var(--fill-color);\n",
              "    }\n",
              "    30% {\n",
              "      border-color: transparent;\n",
              "      border-left-color: var(--fill-color);\n",
              "      border-top-color: var(--fill-color);\n",
              "      border-right-color: var(--fill-color);\n",
              "    }\n",
              "    40% {\n",
              "      border-color: transparent;\n",
              "      border-right-color: var(--fill-color);\n",
              "      border-top-color: var(--fill-color);\n",
              "    }\n",
              "    60% {\n",
              "      border-color: transparent;\n",
              "      border-right-color: var(--fill-color);\n",
              "    }\n",
              "    80% {\n",
              "      border-color: transparent;\n",
              "      border-right-color: var(--fill-color);\n",
              "      border-bottom-color: var(--fill-color);\n",
              "    }\n",
              "    90% {\n",
              "      border-color: transparent;\n",
              "      border-bottom-color: var(--fill-color);\n",
              "    }\n",
              "  }\n",
              "</style>\n",
              "\n",
              "  <script>\n",
              "    async function quickchart(key) {\n",
              "      const quickchartButtonEl =\n",
              "        document.querySelector('#' + key + ' button');\n",
              "      quickchartButtonEl.disabled = true;  // To prevent multiple clicks.\n",
              "      quickchartButtonEl.classList.add('colab-df-spinner');\n",
              "      try {\n",
              "        const charts = await google.colab.kernel.invokeFunction(\n",
              "            'suggestCharts', [key], {});\n",
              "      } catch (error) {\n",
              "        console.error('Error during call to suggestCharts:', error);\n",
              "      }\n",
              "      quickchartButtonEl.classList.remove('colab-df-spinner');\n",
              "      quickchartButtonEl.classList.add('colab-df-quickchart-complete');\n",
              "    }\n",
              "    (() => {\n",
              "      let quickchartButtonEl =\n",
              "        document.querySelector('#df-31250f63-18fd-46b0-bc97-142c05049b69 button');\n",
              "      quickchartButtonEl.style.display =\n",
              "        google.colab.kernel.accessAllowed ? 'block' : 'none';\n",
              "    })();\n",
              "  </script>\n",
              "</div>\n",
              "    </div>\n",
              "  </div>\n"
            ],
            "application/vnd.google.colaboratory.intrinsic+json": {
              "type": "dataframe",
              "summary": "{\n  \"name\": \"pd\",\n  \"rows\": 3,\n  \"fields\": [\n    {\n      \"column\": 0,\n      \"properties\": {\n        \"dtype\": \"number\",\n        \"std\": 0.5773502691896258,\n        \"min\": -1.0354374859430035e-16,\n        \"max\": 1.0,\n        \"num_unique_values\": 3,\n        \"samples\": [\n          1.0,\n          3.075462296611677e-17,\n          -1.0354374859430035e-16\n        ],\n        \"semantic_type\": \"\",\n        \"description\": \"\"\n      }\n    },\n    {\n      \"column\": 1,\n      \"properties\": {\n        \"dtype\": \"number\",\n        \"std\": 0.5773502691896258,\n        \"min\": 1.336042790009781e-17,\n        \"max\": 1.0,\n        \"num_unique_values\": 3,\n        \"samples\": [\n          3.075462296611677e-17,\n          1.0,\n          1.336042790009781e-17\n        ],\n        \"semantic_type\": \"\",\n        \"description\": \"\"\n      }\n    },\n    {\n      \"column\": 2,\n      \"properties\": {\n        \"dtype\": \"number\",\n        \"std\": 0.5773502691896258,\n        \"min\": -1.0354374859430035e-16,\n        \"max\": 1.0,\n        \"num_unique_values\": 3,\n        \"samples\": [\n          -1.0354374859430035e-16,\n          1.336042790009781e-17,\n          1.0\n        ],\n        \"semantic_type\": \"\",\n        \"description\": \"\"\n      }\n    }\n  ]\n}"
            }
          },
          "metadata": {},
          "execution_count": 5
        }
      ]
    },
    {
      "cell_type": "code",
      "source": [
        "'''\n",
        "from sklearn.pipeline import Pipeline\n",
        "pipeline = Pipeline([('scaler', StandardScaler()),\n",
        "          ('pca', PCA())])\n",
        "pipeline.fit(df_tech)\n",
        "pipeline['pca'].explained_variance_ratio_\n",
        "''';"
      ],
      "metadata": {
        "id": "Eien_Hn21mq_"
      },
      "execution_count": null,
      "outputs": []
    },
    {
      "cell_type": "markdown",
      "source": [
        "## Exercise 3"
      ],
      "metadata": {
        "id": "x_bQb8Dd8EqF"
      }
    },
    {
      "cell_type": "code",
      "source": [
        "df_tech_inversed = pca_opt.inverse_transform(df_tech_scaled_pca)\n",
        "df_tech_unScaled = scaler.inverse_transform(df_tech_inversed) # 2 options: Check the difference between the original data & the inversed after PCA\n",
        "                                # 1)using the scaled 2)original range"
      ],
      "metadata": {
        "id": "zxg5rTNi1ui5"
      },
      "execution_count": null,
      "outputs": []
    },
    {
      "cell_type": "code",
      "source": [
        "df_tech_unScaled"
      ],
      "metadata": {
        "id": "3LrDFHbf9zbb"
      },
      "execution_count": null,
      "outputs": []
    },
    {
      "cell_type": "code",
      "source": [
        "from sklearn.metrics import mean_squared_error, mean_absolute_error, mean_absolute_percentage_error\n",
        "reconstruction_error = []\n",
        "\n",
        "for i in range(len(df_tech_inversed)):\n",
        "  #error_instance_i = mean_squared_error(df_tech.iloc[i], df_tech_unScaled[i])\n",
        "  error_instance_i = mean_absolute_percentage_error(df_tech.iloc[i], df_tech_unScaled[i])\n",
        "  reconstruction_error.append(error_instance_i)"
      ],
      "metadata": {
        "id": "_1YfUFoo130s"
      },
      "execution_count": null,
      "outputs": []
    },
    {
      "cell_type": "code",
      "source": [
        "df_tech.iloc[np.argmax(reconstruction_error)]"
      ],
      "metadata": {
        "colab": {
          "base_uri": "https://localhost:8080/"
        },
        "id": "lwC6NedlyJM5",
        "outputId": "e943916f-4f95-41b1-d3c0-6c22c58e3ba0"
      },
      "execution_count": null,
      "outputs": [
        {
          "output_type": "execute_result",
          "data": {
            "text/plain": [
              "Founding Year                                        1993.000\n",
              "Annual Revenue 2022-2023 (USD in Billions)             26.970\n",
              "Market Cap (USD in Trillions)                           0.653\n",
              "Annual Income Tax in 2022-2023 (USD in Billions)        0.189\n",
              "Employee Size                                       22473.000\n",
              "Name: 4, dtype: float64"
            ]
          },
          "metadata": {},
          "execution_count": 27
        }
      ]
    },
    {
      "cell_type": "code",
      "source": [
        "np.max(reconstruction_error)"
      ],
      "metadata": {
        "colab": {
          "base_uri": "https://localhost:8080/"
        },
        "id": "Mnb6Cd9aya9f",
        "outputId": "a70f6f64-7953-4a43-faaa-2c27f79f1d72"
      },
      "execution_count": null,
      "outputs": [
        {
          "output_type": "execute_result",
          "data": {
            "text/plain": [
              "2.449322478309583"
            ]
          },
          "metadata": {},
          "execution_count": 28
        }
      ]
    },
    {
      "cell_type": "code",
      "source": [
        "df_tech_unScaled[np.argmax(reconstruction_error)]\n",
        "\n",
        "# 2 ways of using the inverse_transform of PCA:\n",
        "# 1) Identifying rows with \"noise\" (check one by one manually)\n",
        "# 2) If you apply a model after PCA, keep in mind that you are loosing \"a lot\" of information in that row"
      ],
      "metadata": {
        "colab": {
          "base_uri": "https://localhost:8080/"
        },
        "id": "odnP2r7YzYHp",
        "outputId": "ceee148c-05b9-4ff0-fe36-b1213ba8e30e"
      },
      "execution_count": null,
      "outputs": [
        {
          "output_type": "execute_result",
          "data": {
            "text/plain": [
              "array([1.99357324e+03, 4.91005738e+01, 3.10174246e-01, 2.07742874e+00,\n",
              "       4.29026318e+04])"
            ]
          },
          "metadata": {},
          "execution_count": 29
        }
      ]
    },
    {
      "cell_type": "code",
      "source": [
        "reconstruction_error"
      ],
      "metadata": {
        "id": "5YwBCiByzEe5"
      },
      "execution_count": null,
      "outputs": []
    },
    {
      "cell_type": "markdown",
      "source": [
        "## Session 11: LDA"
      ],
      "metadata": {
        "id": "-G_qsbFq7qRa"
      }
    },
    {
      "cell_type": "code",
      "source": [
        "import pandas as pd"
      ],
      "metadata": {
        "id": "SLYXgjuzejwe"
      },
      "execution_count": null,
      "outputs": []
    },
    {
      "cell_type": "code",
      "source": [
        "# Data\n",
        "data = pd.read_csv(\"air_quality_health_impact_data.csv\").drop(columns=['RecordID', 'HealthImpactScore'])\n",
        "X = data.drop(columns=['HealthImpactClass'])\n",
        "y = data['HealthImpactClass']\n",
        "\n",
        "# Training test split\n",
        "from sklearn.model_selection import train_test_split\n",
        "X_train, X_test, y_train, y_test = train_test_split(X, y, stratify=y) # Stratify can be interesting!\n",
        "\n",
        "# Standard Scaler\n",
        "from sklearn.preprocessing import StandardScaler\n",
        "scaler = StandardScaler()\n",
        "X_train_scaled = scaler.fit_transform(X_train)\n",
        "X_test_scaled = scaler.transform(X_test)\n",
        "\n",
        "# Getting the optimal number of components for LDA\n",
        "from sklearn.discriminant_analysis import LinearDiscriminantAnalysis\n",
        "lda_max = LinearDiscriminantAnalysis(n_components=len(y.value_counts())-1)\n",
        "lda_max.fit(X_train_scaled, y_train) # Only the training"
      ],
      "metadata": {
        "colab": {
          "base_uri": "https://localhost:8080/",
          "height": 74
        },
        "id": "C-_RAw6TzHms",
        "outputId": "889f286c-34ab-4992-eee7-a750d3f84d55"
      },
      "execution_count": null,
      "outputs": [
        {
          "output_type": "execute_result",
          "data": {
            "text/plain": [
              "LinearDiscriminantAnalysis(n_components=4)"
            ],
            "text/html": [
              "<style>#sk-container-id-1 {color: black;background-color: white;}#sk-container-id-1 pre{padding: 0;}#sk-container-id-1 div.sk-toggleable {background-color: white;}#sk-container-id-1 label.sk-toggleable__label {cursor: pointer;display: block;width: 100%;margin-bottom: 0;padding: 0.3em;box-sizing: border-box;text-align: center;}#sk-container-id-1 label.sk-toggleable__label-arrow:before {content: \"▸\";float: left;margin-right: 0.25em;color: #696969;}#sk-container-id-1 label.sk-toggleable__label-arrow:hover:before {color: black;}#sk-container-id-1 div.sk-estimator:hover label.sk-toggleable__label-arrow:before {color: black;}#sk-container-id-1 div.sk-toggleable__content {max-height: 0;max-width: 0;overflow: hidden;text-align: left;background-color: #f0f8ff;}#sk-container-id-1 div.sk-toggleable__content pre {margin: 0.2em;color: black;border-radius: 0.25em;background-color: #f0f8ff;}#sk-container-id-1 input.sk-toggleable__control:checked~div.sk-toggleable__content {max-height: 200px;max-width: 100%;overflow: auto;}#sk-container-id-1 input.sk-toggleable__control:checked~label.sk-toggleable__label-arrow:before {content: \"▾\";}#sk-container-id-1 div.sk-estimator input.sk-toggleable__control:checked~label.sk-toggleable__label {background-color: #d4ebff;}#sk-container-id-1 div.sk-label input.sk-toggleable__control:checked~label.sk-toggleable__label {background-color: #d4ebff;}#sk-container-id-1 input.sk-hidden--visually {border: 0;clip: rect(1px 1px 1px 1px);clip: rect(1px, 1px, 1px, 1px);height: 1px;margin: -1px;overflow: hidden;padding: 0;position: absolute;width: 1px;}#sk-container-id-1 div.sk-estimator {font-family: monospace;background-color: #f0f8ff;border: 1px dotted black;border-radius: 0.25em;box-sizing: border-box;margin-bottom: 0.5em;}#sk-container-id-1 div.sk-estimator:hover {background-color: #d4ebff;}#sk-container-id-1 div.sk-parallel-item::after {content: \"\";width: 100%;border-bottom: 1px solid gray;flex-grow: 1;}#sk-container-id-1 div.sk-label:hover label.sk-toggleable__label {background-color: #d4ebff;}#sk-container-id-1 div.sk-serial::before {content: \"\";position: absolute;border-left: 1px solid gray;box-sizing: border-box;top: 0;bottom: 0;left: 50%;z-index: 0;}#sk-container-id-1 div.sk-serial {display: flex;flex-direction: column;align-items: center;background-color: white;padding-right: 0.2em;padding-left: 0.2em;position: relative;}#sk-container-id-1 div.sk-item {position: relative;z-index: 1;}#sk-container-id-1 div.sk-parallel {display: flex;align-items: stretch;justify-content: center;background-color: white;position: relative;}#sk-container-id-1 div.sk-item::before, #sk-container-id-1 div.sk-parallel-item::before {content: \"\";position: absolute;border-left: 1px solid gray;box-sizing: border-box;top: 0;bottom: 0;left: 50%;z-index: -1;}#sk-container-id-1 div.sk-parallel-item {display: flex;flex-direction: column;z-index: 1;position: relative;background-color: white;}#sk-container-id-1 div.sk-parallel-item:first-child::after {align-self: flex-end;width: 50%;}#sk-container-id-1 div.sk-parallel-item:last-child::after {align-self: flex-start;width: 50%;}#sk-container-id-1 div.sk-parallel-item:only-child::after {width: 0;}#sk-container-id-1 div.sk-dashed-wrapped {border: 1px dashed gray;margin: 0 0.4em 0.5em 0.4em;box-sizing: border-box;padding-bottom: 0.4em;background-color: white;}#sk-container-id-1 div.sk-label label {font-family: monospace;font-weight: bold;display: inline-block;line-height: 1.2em;}#sk-container-id-1 div.sk-label-container {text-align: center;}#sk-container-id-1 div.sk-container {/* jupyter's `normalize.less` sets `[hidden] { display: none; }` but bootstrap.min.css set `[hidden] { display: none !important; }` so we also need the `!important` here to be able to override the default hidden behavior on the sphinx rendered scikit-learn.org. See: https://github.com/scikit-learn/scikit-learn/issues/21755 */display: inline-block !important;position: relative;}#sk-container-id-1 div.sk-text-repr-fallback {display: none;}</style><div id=\"sk-container-id-1\" class=\"sk-top-container\"><div class=\"sk-text-repr-fallback\"><pre>LinearDiscriminantAnalysis(n_components=4)</pre><b>In a Jupyter environment, please rerun this cell to show the HTML representation or trust the notebook. <br />On GitHub, the HTML representation is unable to render, please try loading this page with nbviewer.org.</b></div><div class=\"sk-container\" hidden><div class=\"sk-item\"><div class=\"sk-estimator sk-toggleable\"><input class=\"sk-toggleable__control sk-hidden--visually\" id=\"sk-estimator-id-1\" type=\"checkbox\" checked><label for=\"sk-estimator-id-1\" class=\"sk-toggleable__label sk-toggleable__label-arrow\">LinearDiscriminantAnalysis</label><div class=\"sk-toggleable__content\"><pre>LinearDiscriminantAnalysis(n_components=4)</pre></div></div></div></div></div>"
            ]
          },
          "metadata": {},
          "execution_count": 3
        }
      ]
    },
    {
      "cell_type": "code",
      "source": [
        "lda_max.explained_variance_ratio_ # With only 1 component 0.96 explained variance!!\n",
        "# Threshold between 95% of explained variance ratio\n",
        "# How many components (minimum) do I need in order to achieve at least 95% of the explained variance ratio?"
      ],
      "metadata": {
        "colab": {
          "base_uri": "https://localhost:8080/"
        },
        "id": "C-km0LN373eT",
        "outputId": "2b0d9a31-1e69-49cd-a2b6-8a1a9d6229d4"
      },
      "execution_count": null,
      "outputs": [
        {
          "output_type": "execute_result",
          "data": {
            "text/plain": [
              "array([0.96656858, 0.02733813, 0.003582  , 0.00251129])"
            ]
          },
          "metadata": {},
          "execution_count": 4
        }
      ]
    },
    {
      "cell_type": "code",
      "source": [
        "import numpy as np\n",
        "np.cumsum(lda_max.explained_variance_ratio_)"
      ],
      "metadata": {
        "colab": {
          "base_uri": "https://localhost:8080/"
        },
        "id": "jd5nMhw5fmMW",
        "outputId": "fbd85f37-65a0-4f2c-cee3-7fa54adf9d87"
      },
      "execution_count": null,
      "outputs": [
        {
          "output_type": "execute_result",
          "data": {
            "text/plain": [
              "array([0.96656858, 0.99390671, 0.99748871, 1.        ])"
            ]
          },
          "metadata": {},
          "execution_count": 6
        }
      ]
    },
    {
      "cell_type": "code",
      "source": [
        "X_train_scaled.shape (4358, 12) -> X_train_lda.shape (4358, 1)"
      ],
      "metadata": {
        "colab": {
          "base_uri": "https://localhost:8080/"
        },
        "id": "jKxILsM1hVll",
        "outputId": "87cde032-a7bf-4f0b-b89d-5af529242a3d"
      },
      "execution_count": null,
      "outputs": [
        {
          "output_type": "execute_result",
          "data": {
            "text/plain": [
              "(4358, 12)"
            ]
          },
          "metadata": {},
          "execution_count": 7
        }
      ]
    },
    {
      "cell_type": "code",
      "source": [
        "# LDA -> dim red - .transform() (ex2) /// classification .predict()  (ex3)\n",
        "\n",
        "# Exercise 2: Result of LDA to SVM model\n",
        "lda_optimal = LinearDiscriminantAnalysis(n_components=1)\n",
        "lda_optimal.fit(X_train_scaled, y_train)\n",
        "X_train_lda = lda_optimal.transform(X_train_scaled)\n",
        "X_test_lda = lda_optimal.transform(X_test_scaled)\n",
        "\n",
        "from sklearn.svm import SVC\n",
        "# GridSearchCV with C (0.001, 0.01, 0.1, 1, 10, 100), gamma (0.001, 0.01, 0.1, 1, 10, 100), kernel (poly, rbf, linear)\n",
        "svm = SVC(class_weight=\"balanced\", C=100, gamma=100)\n",
        "svm.fit(X_train_lda, y_train)\n",
        "y_train_predicted_svm = svm.predict(X_train_lda)\n",
        "y_test_predicted_svm = svm.predict(X_test_lda)"
      ],
      "metadata": {
        "id": "Emr32OgK-evR"
      },
      "execution_count": null,
      "outputs": []
    },
    {
      "cell_type": "code",
      "source": [
        "from sklearn.metrics import accuracy_score, confusion_matrix, balanced_accuracy_score\n",
        "print(\"\\nTraining\")\n",
        "print(accuracy_score(y_train, y_train_predicted_svm))\n",
        "print(balanced_accuracy_score(y_train, y_train_predicted_svm))\n",
        "print(\"\\nTest\")\n",
        "print(accuracy_score(y_test, y_test_predicted_svm))\n",
        "print(balanced_accuracy_score(y_test, y_test_predicted_svm))"
      ],
      "metadata": {
        "colab": {
          "base_uri": "https://localhost:8080/"
        },
        "id": "H3wbzyX5BQqy",
        "outputId": "b1f312fa-3c1e-4780-d3f9-5a251040c6e0"
      },
      "execution_count": null,
      "outputs": [
        {
          "output_type": "stream",
          "name": "stdout",
          "text": [
            "\n",
            "Training\n",
            "0.59889857732905\n",
            "0.7179663270595478\n",
            "\n",
            "Test\n",
            "0.5994494150034412\n",
            "0.5792183308575022\n"
          ]
        }
      ]
    },
    {
      "cell_type": "code",
      "source": [
        "confusion_matrix(y_train, y_train_predicted_svm)"
      ],
      "metadata": {
        "colab": {
          "base_uri": "https://localhost:8080/"
        },
        "id": "RPNT9ucYBTQH",
        "outputId": "e46a97fa-4991-4f5d-a8c1-72bbe8035c33"
      },
      "execution_count": null,
      "outputs": [
        {
          "output_type": "execute_result",
          "data": {
            "text/plain": [
              "array([[2756,  195,    2,    0,  653],\n",
              "       [  26,  361,   39,    0,    8],\n",
              "       [  28,   23,  136,    8,   10],\n",
              "       [  28,    7,    5,   26,    5],\n",
              "       [  26,    7,    2,    0,    7]])"
            ]
          },
          "metadata": {},
          "execution_count": 21
        }
      ]
    },
    {
      "cell_type": "code",
      "source": [
        "y_train.value_counts()"
      ],
      "metadata": {
        "colab": {
          "base_uri": "https://localhost:8080/"
        },
        "id": "29zjVZ_4n-6o",
        "outputId": "1b268247-d6aa-4b03-eb88-635f2bbd6768"
      },
      "execution_count": null,
      "outputs": [
        {
          "output_type": "execute_result",
          "data": {
            "text/plain": [
              "HealthImpactClass\n",
              "0.0    3606\n",
              "1.0     434\n",
              "2.0     205\n",
              "3.0      71\n",
              "4.0      42\n",
              "Name: count, dtype: int64"
            ]
          },
          "metadata": {},
          "execution_count": 36
        }
      ]
    },
    {
      "cell_type": "markdown",
      "source": [
        "### Exercise 3"
      ],
      "metadata": {
        "id": "-f45vZtdmfN9"
      }
    },
    {
      "cell_type": "code",
      "source": [
        "# Use LDA as a Classification algorithm (using the original training and test data)\n",
        "lda_class = LinearDiscriminantAnalysis()\n",
        "lda_class.fit(X_train_scaled, y_train)\n",
        "y_train_lda_class = lda_class.predict(X_train_scaled)\n",
        "y_test_lda_class = lda_class.predict(X_test_scaled)"
      ],
      "metadata": {
        "id": "AetGM1n8B6EH"
      },
      "execution_count": null,
      "outputs": []
    },
    {
      "cell_type": "code",
      "source": [
        "print(\"\\nTraining\")\n",
        "print(accuracy_score(y_train, y_train_lda_class))\n",
        "print(balanced_accuracy_score(y_train, y_train_lda_class))\n",
        "print(\"\\nTest\")\n",
        "print(accuracy_score(y_test, y_test_lda_class))\n",
        "print(balanced_accuracy_score(y_test, y_test_lda_class))"
      ],
      "metadata": {
        "colab": {
          "base_uri": "https://localhost:8080/"
        },
        "id": "TBiWb839ouMz",
        "outputId": "5432df81-743c-4a5b-e94e-e4ef9f7ee40f"
      },
      "execution_count": null,
      "outputs": [
        {
          "output_type": "stream",
          "name": "stdout",
          "text": [
            "\n",
            "Training\n",
            "0.851537402478201\n",
            "0.25886924063655475\n",
            "\n",
            "Test\n",
            "0.8499655884377151\n",
            "0.2576632252533809\n"
          ]
        }
      ]
    },
    {
      "cell_type": "code",
      "source": [],
      "metadata": {
        "id": "Jyc-YJxbo6Qc"
      },
      "execution_count": null,
      "outputs": []
    }
  ]
}